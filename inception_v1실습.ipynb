{
  "nbformat": 4,
  "nbformat_minor": 0,
  "metadata": {
    "colab": {
      "provenance": [],
      "authorship_tag": "ABX9TyP1svA31WO9Z4aRj2Eo7SSJ",
      "include_colab_link": true
    },
    "kernelspec": {
      "name": "python3",
      "display_name": "Python 3"
    },
    "language_info": {
      "name": "python"
    }
  },
  "cells": [
    {
      "cell_type": "markdown",
      "metadata": {
        "id": "view-in-github",
        "colab_type": "text"
      },
      "source": [
        "<a href=\"https://colab.research.google.com/github/KSI000321/Legend-13-/blob/main/inception_v1%EC%8B%A4%EC%8A%B5.ipynb\" target=\"_parent\"><img src=\"https://colab.research.google.com/assets/colab-badge.svg\" alt=\"Open In Colab\"/></a>"
      ]
    },
    {
      "cell_type": "code",
      "execution_count": null,
      "metadata": {
        "id": "xPmTQ9A9WnBh"
      },
      "outputs": [],
      "source": [
        "import torch\n",
        "from torch import nn"
      ]
    },
    {
      "cell_type": "code",
      "source": [
        "class BasicConv2d(nn.Module):\n",
        "  def __init__(self, in_channels, out_channels, **kwargs):\n",
        "    super().__init__()\n",
        "    self.conv_block = nn.Sequential(nn.Conv2d(in_channels, out_channels, bias=False, **kwargs),\n",
        "                                    nn.BatchNorm2d(out_channels, eps=0.001),\n",
        "                                    nn.ReLU())\n",
        "  def forward(self, x):\n",
        "    x = self.conv_block(x)\n",
        "    return x\n",
        "\n",
        "class Inception(nn.Module):\n",
        "  def __init__(self, in_channels, ch1x1, ch3x3red, ch3x3, ch5x5red, ch5x5, pool_proj):\n",
        "    super().__init__()\n",
        "\n",
        "    self.branch1 = BasicConv2d(in_channels, ch1x1, kernel_size=1)\n",
        "\n",
        "    self.branch2 = nn.Sequential(BasicConv2d(in_channels, ch3x3red, kernel_size=1),\n",
        "                                 BasicConv2d(ch3x3red, ch3x3, kernel_size=3, padding=1))\n",
        "\n",
        "    self.branch3 = nn.Sequential(BasicConv2d(in_channels, ch5x5red, kernel_size=1),\n",
        "                                 BasicConv2d(ch5x5red, ch5x5, kernel_size=5, padding=2))\n",
        "\n",
        "    self.branch4 = nn.Sequential(nn.MaxPool2d(kernel_size=3, stride=1, padding=1),\n",
        "                                 BasicConv2d(in_channels, pool_proj, kernel_size=1))\n",
        "\n",
        "  def forward(self, x):\n",
        "    branch1 = self.branch1(x)\n",
        "    branch2 = self.branch2(x)\n",
        "    branch3 = self.branch3(x)\n",
        "    branch4 = self.branch4(x)\n",
        "\n",
        "    outputs = [branch1, branch2, branch3, branch4]\n",
        "    return torch.cat(outputs, 1)\n",
        "\n",
        "class InceptionAux(nn.Module):\n",
        "  def __init__(self, in_channels, num_classes, drop_p=0.7):\n",
        "    super().__init__()\n",
        "\n",
        "    self.avgpool = nn.AvgPool2d(kernel_size=5, stride=3)\n",
        "    self.conv = BasicConv2d(in_channels, 128, kernel_size=1)\n",
        "    self.fc1 = nn.Linear(2048, 1024) # 입력이 2048인걸 어떻게 바로?\n",
        "    self.act = nn.ReLU()\n",
        "    self.dropout = nn.Dropout(p=drop_p)\n",
        "    self.fc2 = nn.Linear(1024, num_classes)\n",
        "\n",
        "  def forward(self, x):\n",
        "    x = self.avgpool(x)\n",
        "    x = self.conv(x)\n",
        "    x = torch.flatten(x, 1)\n",
        "    x = self.fc1(x)\n",
        "    x = self.act(x)\n",
        "    x = self.dropout(x)\n",
        "    x = self.fc2(x)\n",
        "\n",
        "    return x\n",
        "\n",
        "class Inception_V1(nn.Module):\n",
        "  def __init__(self, num_classes = 1000, use_aux = True, init_weights = None, drop_p = 0.4, drop_p_aux = 0.7):\n",
        "    super().__init__()\n",
        "\n",
        "    self.use_aux = use_aux\n",
        "\n",
        "    self.conv1 = BasicConv2d(3, 64, kernel_size=7, stride=2, padding=3)\n",
        "    self.maxpool1 = nn.MaxPool2d(3, stride=2, padding=1)\n",
        "    self.conv2a = BasicConv2d(64, 64, kernel_size=1)\n",
        "    self.conv2b = BasicConv2d(64, 192, kernel_size=3, padding=1)\n",
        "    self.maxpool2 = nn.MaxPool2d(3, stride=2, padding=1)\n",
        "    self.inception3a = Inception(192, 64, 96, 128, 16, 32, 32)\n",
        "    self.inception3b = Inception(256, 128, 128, 192, 32, 96, 64)\n",
        "    self.maxpool3 = nn.MaxPool2d(3, stride=2, padding=1)\n",
        "    self.inception4a = Inception(480, 192, 60, 208, 16, 48, 64)\n",
        "    self.inception4b = Inception(512, 160, 112, 224, 24, 64, 64)\n",
        "    self.inception4c = Inception(512, 128, 128, 256, 24, 64, 64)\n",
        "    self.inception4d = Inception(512, 112, 144, 288, 32, 64, 64)\n",
        "    self.inception4e = Inception(528, 256, 160, 320, 32, 128, 128)\n",
        "    self.maxpool4 = nn.MaxPool2d(3, stride=2, padding=1)\n",
        "    self.inception5a = Inception(832, 256, 160, 320, 32, 128, 128)\n",
        "    self.inception5b = Inception(832, 384, 192, 384, 48, 128, 128)\n",
        "    if use_aux:\n",
        "      self.aux1 = InceptionAux(512, num_classes, drop_p=drop_p_aux)\n",
        "      self.aux2 = InceptionAux(528, num_classes, drop_p=drop_p_aux)\n",
        "    else:\n",
        "      self.aux1 = None\n",
        "      self.aux2 = None\n",
        "    self.avgpool = nn.AdaptiveAvgPool2d((1, 1))\n",
        "    self.dropout = nn.Dropout(p=drop_p)\n",
        "    self.fc = nn.Linear(1024, num_classes)\n",
        "\n",
        "    if init_weights:\n",
        "      for m in self.modules:\n",
        "        if isinstance(m, nn.Conv2d) or isinstance(m, nn.Linear):\n",
        "          torch.nn.init.trunc_normal_(m.weight, mean=0.0, std=0.01, a=-2, b=2)\n",
        "\n",
        "  def forward(self, x):\n",
        "    x = self.conv1(x)\n",
        "    x = self.maxpool1(x)\n",
        "    x = self.conv2a(x)\n",
        "    x = self.conv2b(x)\n",
        "    x = self.maxpool2(x)\n",
        "\n",
        "    x = self.inception3a(x)\n",
        "    x = self.inception3b(x)\n",
        "    x = self.maxpool3(x)\n",
        "    x = self.inception4a(x)\n",
        "    if self.aux1 is not None and self.training:\n",
        "      aux1 = self.aux1(x)\n",
        "    else:\n",
        "      aux1 = None\n",
        "    x = self.inception4b(x)\n",
        "    x = self.inception4c(x)\n",
        "    x = self.inception4d(x)\n",
        "    if self.aux2 is not None and self.training:\n",
        "      aux2 = self.aux2(x)\n",
        "    else:\n",
        "      aux2 = None\n",
        "    x = self.inception4e(x)\n",
        "    x = self.maxpool4(x)\n",
        "\n",
        "    x = self.inception5a(x)\n",
        "    x = self.inception5b(x)\n",
        "\n",
        "    x = self.avgpool(x)\n",
        "    x = torch.flatten(x, 1)\n",
        "    x = self.dropout(x)\n",
        "    x = self.fc(x)\n",
        "\n",
        "    return x, aux2, aux1"
      ],
      "metadata": {
        "id": "n2rnNexpWoMP"
      },
      "execution_count": null,
      "outputs": []
    },
    {
      "cell_type": "code",
      "source": [
        "!pip install torchinfo\n",
        "from torchinfo import summary\n",
        "\n",
        "model = Inception_V1()\n",
        "\n",
        "summary(model, input_size=(2, 3, 224, 224), device='cpu')"
      ],
      "metadata": {
        "colab": {
          "base_uri": "https://localhost:8080/"
        },
        "id": "iL6FSm08WoN5",
        "outputId": "3b9d24e9-e73f-4e05-f543-1909dac7b50c"
      },
      "execution_count": null,
      "outputs": [
        {
          "output_type": "execute_result",
          "data": {
            "text/plain": [
              "===============================================================================================\n",
              "Layer (type:depth-idx)                        Output Shape              Param #\n",
              "===============================================================================================\n",
              "Inception_V1                                  [2, 1000]                 6,379,984\n",
              "├─BasicConv2d: 1-1                            [2, 64, 112, 112]         --\n",
              "│    └─Sequential: 2-1                        [2, 64, 112, 112]         --\n",
              "│    │    └─Conv2d: 3-1                       [2, 64, 112, 112]         9,408\n",
              "│    │    └─BatchNorm2d: 3-2                  [2, 64, 112, 112]         128\n",
              "│    │    └─ReLU: 3-3                         [2, 64, 112, 112]         --\n",
              "├─MaxPool2d: 1-2                              [2, 64, 56, 56]           --\n",
              "├─BasicConv2d: 1-3                            [2, 64, 56, 56]           --\n",
              "│    └─Sequential: 2-2                        [2, 64, 56, 56]           --\n",
              "│    │    └─Conv2d: 3-4                       [2, 64, 56, 56]           4,096\n",
              "│    │    └─BatchNorm2d: 3-5                  [2, 64, 56, 56]           128\n",
              "│    │    └─ReLU: 3-6                         [2, 64, 56, 56]           --\n",
              "├─BasicConv2d: 1-4                            [2, 192, 56, 56]          --\n",
              "│    └─Sequential: 2-3                        [2, 192, 56, 56]          --\n",
              "│    │    └─Conv2d: 3-7                       [2, 192, 56, 56]          110,592\n",
              "│    │    └─BatchNorm2d: 3-8                  [2, 192, 56, 56]          384\n",
              "│    │    └─ReLU: 3-9                         [2, 192, 56, 56]          --\n",
              "├─MaxPool2d: 1-5                              [2, 192, 28, 28]          --\n",
              "├─Inception: 1-6                              [2, 256, 28, 28]          --\n",
              "│    └─BasicConv2d: 2-4                       [2, 64, 28, 28]           --\n",
              "│    │    └─Sequential: 3-10                  [2, 64, 28, 28]           12,416\n",
              "│    └─Sequential: 2-5                        [2, 128, 28, 28]          --\n",
              "│    │    └─BasicConv2d: 3-11                 [2, 96, 28, 28]           18,624\n",
              "│    │    └─BasicConv2d: 3-12                 [2, 128, 28, 28]          110,848\n",
              "│    └─Sequential: 2-6                        [2, 32, 28, 28]           --\n",
              "│    │    └─BasicConv2d: 3-13                 [2, 16, 28, 28]           3,104\n",
              "│    │    └─BasicConv2d: 3-14                 [2, 32, 28, 28]           12,864\n",
              "│    └─Sequential: 2-7                        [2, 32, 28, 28]           --\n",
              "│    │    └─MaxPool2d: 3-15                   [2, 192, 28, 28]          --\n",
              "│    │    └─BasicConv2d: 3-16                 [2, 32, 28, 28]           6,208\n",
              "├─Inception: 1-7                              [2, 480, 28, 28]          --\n",
              "│    └─BasicConv2d: 2-8                       [2, 128, 28, 28]          --\n",
              "│    │    └─Sequential: 3-17                  [2, 128, 28, 28]          33,024\n",
              "│    └─Sequential: 2-9                        [2, 192, 28, 28]          --\n",
              "│    │    └─BasicConv2d: 3-18                 [2, 128, 28, 28]          33,024\n",
              "│    │    └─BasicConv2d: 3-19                 [2, 192, 28, 28]          221,568\n",
              "│    └─Sequential: 2-10                       [2, 96, 28, 28]           --\n",
              "│    │    └─BasicConv2d: 3-20                 [2, 32, 28, 28]           8,256\n",
              "│    │    └─BasicConv2d: 3-21                 [2, 96, 28, 28]           76,992\n",
              "│    └─Sequential: 2-11                       [2, 64, 28, 28]           --\n",
              "│    │    └─MaxPool2d: 3-22                   [2, 256, 28, 28]          --\n",
              "│    │    └─BasicConv2d: 3-23                 [2, 64, 28, 28]           16,512\n",
              "├─MaxPool2d: 1-8                              [2, 480, 14, 14]          --\n",
              "├─Inception: 1-9                              [2, 512, 14, 14]          --\n",
              "│    └─BasicConv2d: 2-12                      [2, 192, 14, 14]          --\n",
              "│    │    └─Sequential: 3-24                  [2, 192, 14, 14]          92,544\n",
              "│    └─Sequential: 2-13                       [2, 208, 14, 14]          --\n",
              "│    │    └─BasicConv2d: 3-25                 [2, 60, 14, 14]           28,920\n",
              "│    │    └─BasicConv2d: 3-26                 [2, 208, 14, 14]          112,736\n",
              "│    └─Sequential: 2-14                       [2, 48, 14, 14]           --\n",
              "│    │    └─BasicConv2d: 3-27                 [2, 16, 14, 14]           7,712\n",
              "│    │    └─BasicConv2d: 3-28                 [2, 48, 14, 14]           19,296\n",
              "│    └─Sequential: 2-15                       [2, 64, 14, 14]           --\n",
              "│    │    └─MaxPool2d: 3-29                   [2, 480, 14, 14]          --\n",
              "│    │    └─BasicConv2d: 3-30                 [2, 64, 14, 14]           30,848\n",
              "├─Inception: 1-10                             [2, 512, 14, 14]          --\n",
              "│    └─BasicConv2d: 2-16                      [2, 160, 14, 14]          --\n",
              "│    │    └─Sequential: 3-31                  [2, 160, 14, 14]          82,240\n",
              "│    └─Sequential: 2-17                       [2, 224, 14, 14]          --\n",
              "│    │    └─BasicConv2d: 3-32                 [2, 112, 14, 14]          57,568\n",
              "│    │    └─BasicConv2d: 3-33                 [2, 224, 14, 14]          226,240\n",
              "│    └─Sequential: 2-18                       [2, 64, 14, 14]           --\n",
              "│    │    └─BasicConv2d: 3-34                 [2, 24, 14, 14]           12,336\n",
              "│    │    └─BasicConv2d: 3-35                 [2, 64, 14, 14]           38,528\n",
              "│    └─Sequential: 2-19                       [2, 64, 14, 14]           --\n",
              "│    │    └─MaxPool2d: 3-36                   [2, 512, 14, 14]          --\n",
              "│    │    └─BasicConv2d: 3-37                 [2, 64, 14, 14]           32,896\n",
              "├─Inception: 1-11                             [2, 512, 14, 14]          --\n",
              "│    └─BasicConv2d: 2-20                      [2, 128, 14, 14]          --\n",
              "│    │    └─Sequential: 3-38                  [2, 128, 14, 14]          65,792\n",
              "│    └─Sequential: 2-21                       [2, 256, 14, 14]          --\n",
              "│    │    └─BasicConv2d: 3-39                 [2, 128, 14, 14]          65,792\n",
              "│    │    └─BasicConv2d: 3-40                 [2, 256, 14, 14]          295,424\n",
              "│    └─Sequential: 2-22                       [2, 64, 14, 14]           --\n",
              "│    │    └─BasicConv2d: 3-41                 [2, 24, 14, 14]           12,336\n",
              "│    │    └─BasicConv2d: 3-42                 [2, 64, 14, 14]           38,528\n",
              "│    └─Sequential: 2-23                       [2, 64, 14, 14]           --\n",
              "│    │    └─MaxPool2d: 3-43                   [2, 512, 14, 14]          --\n",
              "│    │    └─BasicConv2d: 3-44                 [2, 64, 14, 14]           32,896\n",
              "├─Inception: 1-12                             [2, 528, 14, 14]          --\n",
              "│    └─BasicConv2d: 2-24                      [2, 112, 14, 14]          --\n",
              "│    │    └─Sequential: 3-45                  [2, 112, 14, 14]          57,568\n",
              "│    └─Sequential: 2-25                       [2, 288, 14, 14]          --\n",
              "│    │    └─BasicConv2d: 3-46                 [2, 144, 14, 14]          74,016\n",
              "│    │    └─BasicConv2d: 3-47                 [2, 288, 14, 14]          373,824\n",
              "│    └─Sequential: 2-26                       [2, 64, 14, 14]           --\n",
              "│    │    └─BasicConv2d: 3-48                 [2, 32, 14, 14]           16,448\n",
              "│    │    └─BasicConv2d: 3-49                 [2, 64, 14, 14]           51,328\n",
              "│    └─Sequential: 2-27                       [2, 64, 14, 14]           --\n",
              "│    │    └─MaxPool2d: 3-50                   [2, 512, 14, 14]          --\n",
              "│    │    └─BasicConv2d: 3-51                 [2, 64, 14, 14]           32,896\n",
              "├─Inception: 1-13                             [2, 832, 14, 14]          --\n",
              "│    └─BasicConv2d: 2-28                      [2, 256, 14, 14]          --\n",
              "│    │    └─Sequential: 3-52                  [2, 256, 14, 14]          135,680\n",
              "│    └─Sequential: 2-29                       [2, 320, 14, 14]          --\n",
              "│    │    └─BasicConv2d: 3-53                 [2, 160, 14, 14]          84,800\n",
              "│    │    └─BasicConv2d: 3-54                 [2, 320, 14, 14]          461,440\n",
              "│    └─Sequential: 2-30                       [2, 128, 14, 14]          --\n",
              "│    │    └─BasicConv2d: 3-55                 [2, 32, 14, 14]           16,960\n",
              "│    │    └─BasicConv2d: 3-56                 [2, 128, 14, 14]          102,656\n",
              "│    └─Sequential: 2-31                       [2, 128, 14, 14]          --\n",
              "│    │    └─MaxPool2d: 3-57                   [2, 528, 14, 14]          --\n",
              "│    │    └─BasicConv2d: 3-58                 [2, 128, 14, 14]          67,840\n",
              "├─MaxPool2d: 1-14                             [2, 832, 7, 7]            --\n",
              "├─Inception: 1-15                             [2, 832, 7, 7]            --\n",
              "│    └─BasicConv2d: 2-32                      [2, 256, 7, 7]            --\n",
              "│    │    └─Sequential: 3-59                  [2, 256, 7, 7]            213,504\n",
              "│    └─Sequential: 2-33                       [2, 320, 7, 7]            --\n",
              "│    │    └─BasicConv2d: 3-60                 [2, 160, 7, 7]            133,440\n",
              "│    │    └─BasicConv2d: 3-61                 [2, 320, 7, 7]            461,440\n",
              "│    └─Sequential: 2-34                       [2, 128, 7, 7]            --\n",
              "│    │    └─BasicConv2d: 3-62                 [2, 32, 7, 7]             26,688\n",
              "│    │    └─BasicConv2d: 3-63                 [2, 128, 7, 7]            102,656\n",
              "│    └─Sequential: 2-35                       [2, 128, 7, 7]            --\n",
              "│    │    └─MaxPool2d: 3-64                   [2, 832, 7, 7]            --\n",
              "│    │    └─BasicConv2d: 3-65                 [2, 128, 7, 7]            106,752\n",
              "├─Inception: 1-16                             [2, 1024, 7, 7]           --\n",
              "│    └─BasicConv2d: 2-36                      [2, 384, 7, 7]            --\n",
              "│    │    └─Sequential: 3-66                  [2, 384, 7, 7]            320,256\n",
              "│    └─Sequential: 2-37                       [2, 384, 7, 7]            --\n",
              "│    │    └─BasicConv2d: 3-67                 [2, 192, 7, 7]            160,128\n",
              "│    │    └─BasicConv2d: 3-68                 [2, 384, 7, 7]            664,320\n",
              "│    └─Sequential: 2-38                       [2, 128, 7, 7]            --\n",
              "│    │    └─BasicConv2d: 3-69                 [2, 48, 7, 7]             40,032\n",
              "│    │    └─BasicConv2d: 3-70                 [2, 128, 7, 7]            153,856\n",
              "│    └─Sequential: 2-39                       [2, 128, 7, 7]            --\n",
              "│    │    └─MaxPool2d: 3-71                   [2, 832, 7, 7]            --\n",
              "│    │    └─BasicConv2d: 3-72                 [2, 128, 7, 7]            106,752\n",
              "├─AdaptiveAvgPool2d: 1-17                     [2, 1024, 1, 1]           --\n",
              "├─Dropout: 1-18                               [2, 1024]                 --\n",
              "├─Linear: 1-19                                [2, 1000]                 1,025,000\n",
              "===============================================================================================\n",
              "Total params: 13,301,072\n",
              "Trainable params: 13,301,072\n",
              "Non-trainable params: 0\n",
              "Total mult-adds (G): 3.13\n",
              "===============================================================================================\n",
              "Input size (MB): 1.20\n",
              "Forward/backward pass size (MB): 103.03\n",
              "Params size (MB): 27.68\n",
              "Estimated Total Size (MB): 131.92\n",
              "==============================================================================================="
            ]
          },
          "metadata": {},
          "execution_count": 87
        }
      ]
    },
    {
      "cell_type": "code",
      "source": [
        "x, aux2, aux1 = model(torch.randn(2, 3, 224, 224))"
      ],
      "metadata": {
        "id": "goXKbfImWoP0"
      },
      "execution_count": null,
      "outputs": []
    },
    {
      "cell_type": "code",
      "source": [
        "print(x.shape, aux1.shape, aux2.shape)"
      ],
      "metadata": {
        "colab": {
          "base_uri": "https://localhost:8080/"
        },
        "id": "3p6IdfqIrMsg",
        "outputId": "4208a12f-b03b-435f-bb50-3e2d92056733"
      },
      "execution_count": null,
      "outputs": [
        {
          "output_type": "stream",
          "name": "stdout",
          "text": [
            "torch.Size([2, 1000]) torch.Size([2, 1000]) torch.Size([2, 1000])\n"
          ]
        }
      ]
    },
    {
      "cell_type": "code",
      "source": [],
      "metadata": {
        "id": "353Oke90WoRK"
      },
      "execution_count": null,
      "outputs": []
    },
    {
      "cell_type": "code",
      "source": [],
      "metadata": {
        "id": "xsw6IUaJWoSy"
      },
      "execution_count": null,
      "outputs": []
    },
    {
      "cell_type": "code",
      "source": [],
      "metadata": {
        "id": "NchcL8dMWoUR"
      },
      "execution_count": null,
      "outputs": []
    },
    {
      "cell_type": "code",
      "source": [],
      "metadata": {
        "id": "qq1nMGk5WoV2"
      },
      "execution_count": null,
      "outputs": []
    },
    {
      "cell_type": "code",
      "source": [],
      "metadata": {
        "id": "Jsu0Lb_nWoXJ"
      },
      "execution_count": null,
      "outputs": []
    },
    {
      "cell_type": "code",
      "source": [],
      "metadata": {
        "id": "Q_HbqmsEWoYS"
      },
      "execution_count": null,
      "outputs": []
    },
    {
      "cell_type": "code",
      "source": [],
      "metadata": {
        "id": "DzaWJH4vWoZ2"
      },
      "execution_count": null,
      "outputs": []
    },
    {
      "cell_type": "code",
      "source": [],
      "metadata": {
        "id": "ocHRFJd4Wod8"
      },
      "execution_count": null,
      "outputs": []
    }
  ]
}