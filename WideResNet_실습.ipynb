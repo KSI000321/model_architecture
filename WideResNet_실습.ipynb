{
  "nbformat": 4,
  "nbformat_minor": 0,
  "metadata": {
    "colab": {
      "provenance": [],
      "authorship_tag": "ABX9TyNqEmJ2FNlO6+ZsZc0A/YjE",
      "include_colab_link": true
    },
    "kernelspec": {
      "name": "python3",
      "display_name": "Python 3"
    },
    "language_info": {
      "name": "python"
    }
  },
  "cells": [
    {
      "cell_type": "markdown",
      "metadata": {
        "id": "view-in-github",
        "colab_type": "text"
      },
      "source": [
        "<a href=\"https://colab.research.google.com/github/KSI000321/Legend-13-/blob/main/WideResNet_%EC%8B%A4%EC%8A%B5.ipynb\" target=\"_parent\"><img src=\"https://colab.research.google.com/assets/colab-badge.svg\" alt=\"Open In Colab\"/></a>"
      ]
    },
    {
      "cell_type": "code",
      "execution_count": null,
      "metadata": {
        "id": "1qzXSk8GX8ZP"
      },
      "outputs": [],
      "source": [
        "import torch\n",
        "from torch import nn"
      ]
    },
    {
      "cell_type": "code",
      "source": [
        "class WiderBlock(nn.Module):\n",
        "  def __init__(self, in_channels, out_channels, stride=1, projection=None, drop_p=0.3):\n",
        "    super().__init__()\n",
        "    # pre-act 구조 적용\n",
        "    self.residual = nn.Sequential(nn.BatchNorm2d(in_channels),\n",
        "                                  nn.ReLU(inplace=True),\n",
        "                                  nn.Conv2d(in_channels, out_channels, 3, stride=stride, padding=1, bias=False),\n",
        "                                  nn.ReLU(inplace=True),\n",
        "                                  nn.Dropout(drop_p),\n",
        "                                  nn.Conv2d(out_channels, out_channels, 3, padding=1, bias=False))\n",
        "    self.projection = projection\n",
        "\n",
        "  def forward(self, x):\n",
        "    residual = self.residual(x)\n",
        "\n",
        "    if self.projection is not None:\n",
        "      shortcut = self.projection(x)\n",
        "    else:\n",
        "      shortcut = x\n",
        "\n",
        "    out = residual + shortcut\n",
        "    return residual + shortcut\n",
        "\n",
        "class WideResNet(nn.Module):\n",
        "  def __init__(self, depth, k, num_classes, init_weights=True):\n",
        "    super().__init__()\n",
        "    N = int((depth-4)/3/2)\n",
        "    self.in_channels = 16\n",
        "\n",
        "    self.conv1 = nn.Conv2d(3, 16, 3, padding=1, bias=False)\n",
        "    # 처음 conv1 전 BN, ReLU적용은 단지 이미지 전처리에 불과하므로 포함하지 않음\n",
        "    self.stage1 = self.make_stage(16*k, N, stride=1)\n",
        "    self.stage2 = self.make_stage(32*k, N, stride=2)\n",
        "    self.stage3 = self.make_stage(64*k, N, stride=2)\n",
        "    self.bn = nn.BatchNorm2d(64*k)\n",
        "    self.relu = nn.ReLU(inplace=True)\n",
        "    self.avgpool = nn.AdaptiveAvgPool2d((1, 1))\n",
        "    self.fc = nn.Linear(64*k, num_classes)\n",
        "\n",
        "    if init_weights:\n",
        "      for m in self.modules():\n",
        "        if isinstance(m, nn.Conv2d):\n",
        "          nn.init.kaiming_normal_(m.weight, mode=\"fan_out\", nonlinearity=\"relu\")\n",
        "          if m.bias is not None:\n",
        "            nn.init.constant_(m.bias, 0)\n",
        "          elif isinstance(m, nn.Linear):\n",
        "            nn.init.normal_(m.weight, 0, 0.01)\n",
        "            nn.init.constant_(m.bias, 0)\n",
        "\n",
        "  def forward(self, x):\n",
        "    x = self.conv1(x)\n",
        "    x = self.stage1(x)\n",
        "    x = self.stage2(x)\n",
        "    x = self.stage3(x)\n",
        "    x = self.bn(x)\n",
        "    x = self.relu(x)\n",
        "    x = self.avgpool(x)\n",
        "    x = torch.flatten(x, 1)\n",
        "    out = self.fc(x)\n",
        "\n",
        "    return out\n",
        "\n",
        "  def make_stage(self, out_channels, num_blocks, stride):\n",
        "    if stride != 1 or self.in_channels != out_channels:\n",
        "      projection = nn.Conv2d(self.in_channels, out_channels, 1, stride=stride, bias=False)\n",
        "    else:\n",
        "      projection = None\n",
        "\n",
        "    layers = []\n",
        "    layers += [WiderBlock(self.in_channels, out_channels, stride, projection)]\n",
        "\n",
        "    self.in_channels = out_channels\n",
        "\n",
        "    for _ in range(1, num_blocks):\n",
        "      layers += [WiderBlock(self.in_channels, out_channels)]\n",
        "\n",
        "    return nn.Sequential(*layers)"
      ],
      "metadata": {
        "id": "rRIvr_3yYFno"
      },
      "execution_count": null,
      "outputs": []
    },
    {
      "cell_type": "code",
      "source": [
        "model = WideResNet(depth=28, k=10, num_classes=10)\n",
        "# print(model)\n",
        "!pip install torchinfo\n",
        "from torchinfo import summary\n",
        "summary(model, (2,3, 224, 224), device=\"cpu\")"
      ],
      "metadata": {
        "colab": {
          "base_uri": "https://localhost:8080/"
        },
        "id": "NANNm5VYYFps",
        "outputId": "cee1f90f-f5c0-4c01-f327-fe1a0a166cc3"
      },
      "execution_count": null,
      "outputs": [
        {
          "output_type": "stream",
          "name": "stdout",
          "text": [
            "Requirement already satisfied: torchinfo in /usr/local/lib/python3.10/dist-packages (1.8.0)\n"
          ]
        },
        {
          "output_type": "execute_result",
          "data": {
            "text/plain": [
              "==========================================================================================\n",
              "Layer (type:depth-idx)                   Output Shape              Param #\n",
              "==========================================================================================\n",
              "WideResNet                               [2, 10]                   --\n",
              "├─Conv2d: 1-1                            [2, 16, 224, 224]         432\n",
              "├─Sequential: 1-2                        [2, 160, 224, 224]        --\n",
              "│    └─WiderBlock: 2-1                   [2, 160, 224, 224]        --\n",
              "│    │    └─Sequential: 3-1              [2, 160, 224, 224]        253,472\n",
              "│    │    └─Conv2d: 3-2                  [2, 160, 224, 224]        2,560\n",
              "│    └─WiderBlock: 2-2                   [2, 160, 224, 224]        --\n",
              "│    │    └─Sequential: 3-3              [2, 160, 224, 224]        461,120\n",
              "│    └─WiderBlock: 2-3                   [2, 160, 224, 224]        --\n",
              "│    │    └─Sequential: 3-4              [2, 160, 224, 224]        461,120\n",
              "│    └─WiderBlock: 2-4                   [2, 160, 224, 224]        --\n",
              "│    │    └─Sequential: 3-5              [2, 160, 224, 224]        461,120\n",
              "├─Sequential: 1-3                        [2, 320, 112, 112]        --\n",
              "│    └─WiderBlock: 2-5                   [2, 320, 112, 112]        --\n",
              "│    │    └─Sequential: 3-6              [2, 320, 112, 112]        1,382,720\n",
              "│    │    └─Conv2d: 3-7                  [2, 320, 112, 112]        51,200\n",
              "│    └─WiderBlock: 2-6                   [2, 320, 112, 112]        --\n",
              "│    │    └─Sequential: 3-8              [2, 320, 112, 112]        1,843,840\n",
              "│    └─WiderBlock: 2-7                   [2, 320, 112, 112]        --\n",
              "│    │    └─Sequential: 3-9              [2, 320, 112, 112]        1,843,840\n",
              "│    └─WiderBlock: 2-8                   [2, 320, 112, 112]        --\n",
              "│    │    └─Sequential: 3-10             [2, 320, 112, 112]        1,843,840\n",
              "├─Sequential: 1-4                        [2, 640, 56, 56]          --\n",
              "│    └─WiderBlock: 2-9                   [2, 640, 56, 56]          --\n",
              "│    │    └─Sequential: 3-11             [2, 640, 56, 56]          5,530,240\n",
              "│    │    └─Conv2d: 3-12                 [2, 640, 56, 56]          204,800\n",
              "│    └─WiderBlock: 2-10                  [2, 640, 56, 56]          --\n",
              "│    │    └─Sequential: 3-13             [2, 640, 56, 56]          7,374,080\n",
              "│    └─WiderBlock: 2-11                  [2, 640, 56, 56]          --\n",
              "│    │    └─Sequential: 3-14             [2, 640, 56, 56]          7,374,080\n",
              "│    └─WiderBlock: 2-12                  [2, 640, 56, 56]          --\n",
              "│    │    └─Sequential: 3-15             [2, 640, 56, 56]          7,374,080\n",
              "├─BatchNorm2d: 1-5                       [2, 640, 56, 56]          1,280\n",
              "├─ReLU: 1-6                              [2, 640, 56, 56]          --\n",
              "├─AdaptiveAvgPool2d: 1-7                 [2, 640, 1, 1]            --\n",
              "├─Linear: 1-8                            [2, 10]                   6,410\n",
              "==========================================================================================\n",
              "Total params: 36,470,234\n",
              "Trainable params: 36,470,234\n",
              "Non-trainable params: 0\n",
              "Total mult-adds (G): 513.85\n",
              "==========================================================================================\n",
              "Input size (MB): 1.20\n",
              "Forward/backward pass size (MB): 2947.94\n",
              "Params size (MB): 145.88\n",
              "Estimated Total Size (MB): 3095.03\n",
              "=========================================================================================="
            ]
          },
          "metadata": {},
          "execution_count": 21
        }
      ]
    },
    {
      "cell_type": "code",
      "source": [
        "x = torch.randn(2, 3, 224, 224)\n",
        "print(model(x).shape)"
      ],
      "metadata": {
        "colab": {
          "base_uri": "https://localhost:8080/"
        },
        "id": "6O-Ro10-YFq3",
        "outputId": "fa65629f-469e-424a-8f44-6642f0a09793"
      },
      "execution_count": null,
      "outputs": [
        {
          "output_type": "stream",
          "name": "stdout",
          "text": [
            "torch.Size([2, 10])\n"
          ]
        }
      ]
    }
  ]
}